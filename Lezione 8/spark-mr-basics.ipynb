{
  "nbformat": 4,
  "nbformat_minor": 0,
  "metadata": {
    "colab": {
      "provenance": []
    },
    "kernelspec": {
      "name": "python3",
      "display_name": "Python 3"
    }
  },
  "cells": [
    {
      "cell_type": "code",
      "metadata": {
        "id": "2KBSMN42Hj-s"
      },
      "source": [
        "!apt-get install openjdk-8-jdk-headless -qq > /dev/null\n",
        "!wget -q http://archive.apache.org/dist/spark/spark-3.1.1/spark-3.1.1-bin-hadoop3.2.tgz\n",
        "!tar xf spark-3.1.1-bin-hadoop3.2.tgz\n",
        "!pip install -q findspark"
      ],
      "execution_count": 1,
      "outputs": []
    },
    {
      "cell_type": "code",
      "metadata": {
        "id": "UsnMvQDRIG8p"
      },
      "source": [
        "import os\n",
        "os.environ[\"JAVA_HOME\"] = \"/usr/lib/jvm/java-8-openjdk-amd64\"\n",
        "os.environ[\"SPARK_HOME\"] = \"/content/spark-3.1.1-bin-hadoop3.2\""
      ],
      "execution_count": 2,
      "outputs": []
    },
    {
      "cell_type": "code",
      "metadata": {
        "id": "evOnjggtJEXg"
      },
      "source": [
        "import findspark\n",
        "findspark.init(\"spark-3.1.1-bin-hadoop3.2\")# SPARK_HOME\n",
        "from pyspark.sql import SparkSession\n",
        "spark = SparkSession.builder.master(\"local[*]\").getOrCreate()"
      ],
      "execution_count": 3,
      "outputs": []
    },
    {
      "cell_type": "code",
      "metadata": {
        "id": "0LSsYt0-I7J7",
        "outputId": "a6de1f80-9dec-48c4-bd3b-58546184957b",
        "colab": {
          "base_uri": "https://localhost:8080/"
        }
      },
      "source": [
        "import pyspark\n",
        "type(spark)"
      ],
      "execution_count": 4,
      "outputs": [
        {
          "output_type": "execute_result",
          "data": {
            "text/plain": [
              "pyspark.sql.session.SparkSession"
            ]
          },
          "metadata": {},
          "execution_count": 4
        }
      ]
    },
    {
      "cell_type": "code",
      "metadata": {
        "id": "6J2Cm3DMJZkZ"
      },
      "source": [
        "sc = spark.sparkContext"
      ],
      "execution_count": 5,
      "outputs": []
    },
    {
      "cell_type": "code",
      "metadata": {
        "id": "SB-1ZpL9P9ve"
      },
      "source": [
        "s = '''Every person had a star, every star had a friend, and for every person\n",
        "carrying a star there was someone else who reflected it, and everyone\n",
        "carried this reflection like a secret confidante in the heart'''\n",
        "simple_rdd = sc.parallelize(s.split('\\n'))"
      ],
      "execution_count": 6,
      "outputs": []
    },
    {
      "cell_type": "code",
      "metadata": {
        "id": "8pe238QyJsCP",
        "outputId": "604a9a15-d0e9-4313-818f-c8d2c029aa8b",
        "colab": {
          "base_uri": "https://localhost:8080/"
        }
      },
      "source": [
        "simple_rdd.collect()"
      ],
      "execution_count": 7,
      "outputs": [
        {
          "output_type": "execute_result",
          "data": {
            "text/plain": [
              "['Every person had a star, every star had a friend, and for every person',\n",
              " 'carrying a star there was someone else who reflected it, and everyone',\n",
              " 'carried this reflection like a secret confidante in the heart']"
            ]
          },
          "metadata": {},
          "execution_count": 7
        }
      ]
    },
    {
      "cell_type": "code",
      "metadata": {
        "id": "LymNHuZDQlgZ",
        "colab": {
          "base_uri": "https://localhost:8080/"
        },
        "outputId": "845544c9-cff6-4caf-ccb8-522533a424b8"
      },
      "source": [
        "(simple_rdd.map(lambda line: line.split(' '))\n",
        "           .collect())"
      ],
      "execution_count": 8,
      "outputs": [
        {
          "output_type": "execute_result",
          "data": {
            "text/plain": [
              "[['Every',\n",
              "  'person',\n",
              "  'had',\n",
              "  'a',\n",
              "  'star,',\n",
              "  'every',\n",
              "  'star',\n",
              "  'had',\n",
              "  'a',\n",
              "  'friend,',\n",
              "  'and',\n",
              "  'for',\n",
              "  'every',\n",
              "  'person'],\n",
              " ['carrying',\n",
              "  'a',\n",
              "  'star',\n",
              "  'there',\n",
              "  'was',\n",
              "  'someone',\n",
              "  'else',\n",
              "  'who',\n",
              "  'reflected',\n",
              "  'it,',\n",
              "  'and',\n",
              "  'everyone'],\n",
              " ['carried',\n",
              "  'this',\n",
              "  'reflection',\n",
              "  'like',\n",
              "  'a',\n",
              "  'secret',\n",
              "  'confidante',\n",
              "  'in',\n",
              "  'the',\n",
              "  'heart']]"
            ]
          },
          "metadata": {},
          "execution_count": 8
        }
      ]
    },
    {
      "cell_type": "code",
      "metadata": {
        "id": "OGbH_xQyQ1pJ",
        "colab": {
          "base_uri": "https://localhost:8080/"
        },
        "outputId": "9834bec9-d10a-45cb-ef0e-507bfe4babc7"
      },
      "source": [
        "(simple_rdd.flatMap(lambda line: line.split(' '))\n",
        "           .take(10))"
      ],
      "execution_count": 9,
      "outputs": [
        {
          "output_type": "execute_result",
          "data": {
            "text/plain": [
              "['Every',\n",
              " 'person',\n",
              " 'had',\n",
              " 'a',\n",
              " 'star,',\n",
              " 'every',\n",
              " 'star',\n",
              " 'had',\n",
              " 'a',\n",
              " 'friend,']"
            ]
          },
          "metadata": {},
          "execution_count": 9
        }
      ]
    },
    {
      "cell_type": "code",
      "metadata": {
        "id": "PsArbQfrRH2l",
        "colab": {
          "base_uri": "https://localhost:8080/"
        },
        "outputId": "7ef6b3de-f468-4249-b46b-9c0d8cdf8838"
      },
      "source": [
        "(simple_rdd.flatMap(lambda line: line.split(' '))\n",
        "           .map(lambda word: word.replace(',', '').lower())\n",
        "           .take(5))"
      ],
      "execution_count": 10,
      "outputs": [
        {
          "output_type": "execute_result",
          "data": {
            "text/plain": [
              "['every', 'person', 'had', 'a', 'star']"
            ]
          },
          "metadata": {},
          "execution_count": 10
        }
      ]
    },
    {
      "cell_type": "code",
      "metadata": {
        "id": "mp8z9tJNRVQZ",
        "colab": {
          "base_uri": "https://localhost:8080/"
        },
        "outputId": "d1fd27e6-14c2-4f74-b145-8109854ecc3f"
      },
      "source": [
        "(simple_rdd.flatMap(lambda line: line.split(' '))\n",
        "           .map(lambda word: word.replace(',', '').lower())\n",
        "           .map(lambda word: (word, 1))\n",
        "           .take(5))"
      ],
      "execution_count": 11,
      "outputs": [
        {
          "output_type": "execute_result",
          "data": {
            "text/plain": [
              "[('every', 1), ('person', 1), ('had', 1), ('a', 1), ('star', 1)]"
            ]
          },
          "metadata": {},
          "execution_count": 11
        }
      ]
    },
    {
      "cell_type": "code",
      "metadata": {
        "id": "-Vcv7UcsRjBr",
        "colab": {
          "base_uri": "https://localhost:8080/"
        },
        "outputId": "76adc627-1445-4105-8d40-9ce0ef610726"
      },
      "source": [
        "(simple_rdd.flatMap(lambda line: line.split(' '))\n",
        "           .map(lambda word: word.replace(',', '').lower())\n",
        "           .map(lambda word: (word, 1))\n",
        "           .reduceByKey(lambda a,b: a+b)\n",
        "           .collect())"
      ],
      "execution_count": 12,
      "outputs": [
        {
          "output_type": "execute_result",
          "data": {
            "text/plain": [
              "[('person', 2),\n",
              " ('there', 1),\n",
              " ('was', 1),\n",
              " ('carried', 1),\n",
              " ('this', 1),\n",
              " ('like', 1),\n",
              " ('secret', 1),\n",
              " ('confidante', 1),\n",
              " ('in', 1),\n",
              " ('heart', 1),\n",
              " ('every', 3),\n",
              " ('had', 2),\n",
              " ('a', 4),\n",
              " ('star', 3),\n",
              " ('friend', 1),\n",
              " ('and', 2),\n",
              " ('for', 1),\n",
              " ('carrying', 1),\n",
              " ('someone', 1),\n",
              " ('else', 1),\n",
              " ('who', 1),\n",
              " ('reflected', 1),\n",
              " ('it', 1),\n",
              " ('everyone', 1),\n",
              " ('reflection', 1),\n",
              " ('the', 1)]"
            ]
          },
          "metadata": {},
          "execution_count": 12
        }
      ]
    },
    {
      "cell_type": "code",
      "metadata": {
        "id": "70Zlz-SER3ki"
      },
      "source": [
        "def count_freq(rdd):\n",
        "  return (rdd.flatMap(lambda line: line.split(' '))\n",
        "            .map(lambda word: word.replace(',', '').lower())\n",
        "            .map(lambda word: (word, 1))\n",
        "            .reduceByKey(lambda a,b: a+b)\n",
        "            .collect())"
      ],
      "execution_count": 13,
      "outputs": []
    },
    {
      "cell_type": "code",
      "metadata": {
        "id": "dA_3tetsHQm8",
        "outputId": "0a59a7c6-2910-4b7b-c211-5a67aa3c9574",
        "colab": {
          "base_uri": "https://localhost:8080/"
        }
      },
      "source": [
        "!wget http://www.scifiscripts.com/scripts/swd1_5-74.txt"
      ],
      "execution_count": 14,
      "outputs": [
        {
          "output_type": "stream",
          "name": "stdout",
          "text": [
            "--2024-03-13 17:07:43--  http://www.scifiscripts.com/scripts/swd1_5-74.txt\n",
            "Resolving www.scifiscripts.com (www.scifiscripts.com)... 207.32.177.145\n",
            "Connecting to www.scifiscripts.com (www.scifiscripts.com)|207.32.177.145|:80... connected.\n",
            "HTTP request sent, awaiting response... 200 OK\n",
            "Length: 203125 (198K) [text/plain]\n",
            "Saving to: ‘swd1_5-74.txt’\n",
            "\n",
            "swd1_5-74.txt       100%[===================>] 198.36K   844KB/s    in 0.2s    \n",
            "\n",
            "2024-03-13 17:07:44 (844 KB/s) - ‘swd1_5-74.txt’ saved [203125/203125]\n",
            "\n"
          ]
        }
      ]
    },
    {
      "cell_type": "code",
      "metadata": {
        "id": "EZA0B20IJxkN"
      },
      "source": [
        "sw = sc.textFile('swd1_5-74.txt')"
      ],
      "execution_count": 15,
      "outputs": []
    },
    {
      "cell_type": "code",
      "metadata": {
        "id": "VjXWVqhOJ1Vu",
        "outputId": "8cedccb3-0c17-404f-a600-8b6f73f5886e",
        "colab": {
          "base_uri": "https://localhost:8080/"
        }
      },
      "source": [
        "sw.take(10)"
      ],
      "execution_count": 16,
      "outputs": [
        {
          "output_type": "execute_result",
          "data": {
            "text/plain": [
              "['The Star Wars',\n",
              " 'by',\n",
              " 'George Lucas',\n",
              " '',\n",
              " '',\n",
              " '',\n",
              " 'Rough Draft [First of four major screenplay drafts]',\n",
              " 'Lucasfilm Ltd.',\n",
              " '5/74',\n",
              " '']"
            ]
          },
          "metadata": {},
          "execution_count": 16
        }
      ]
    },
    {
      "cell_type": "code",
      "metadata": {
        "id": "GjY7hco0J6Mu",
        "colab": {
          "base_uri": "https://localhost:8080/"
        },
        "outputId": "506aade9-20df-4d93-833a-a9134bbae98c"
      },
      "source": [
        "count_freq(sw)[: 10]"
      ],
      "execution_count": 17,
      "outputs": [
        {
          "output_type": "execute_result",
          "data": {
            "text/plain": [
              "[('george', 1),\n",
              " ('', 3543),\n",
              " ('draft', 1),\n",
              " ('of', 744),\n",
              " ('four', 25),\n",
              " ('major', 2),\n",
              " ('drafts]', 1),\n",
              " ('ltd.', 1),\n",
              " ('5/74', 1),\n",
              " ('1.', 1)]"
            ]
          },
          "metadata": {},
          "execution_count": 17
        }
      ]
    },
    {
      "cell_type": "code",
      "metadata": {
        "id": "SRPuxtCuSHOH",
        "colab": {
          "base_uri": "https://localhost:8080/"
        },
        "outputId": "7b6b9801-9fbf-44b3-877d-54b05e070c6a"
      },
      "source": [
        "import random\n",
        "\n",
        "NUM_SAMPLES = 10**7\n",
        "\n",
        "def inside(p):\n",
        "    x, y = random.random(), random.random()\n",
        "    return x*x + y*y < 1\n",
        "\n",
        "count = (sc.parallelize(range(0, NUM_SAMPLES))\n",
        "           .filter(inside).count())\n",
        "\n",
        "print('Pi is roughly {}'.format(4.0 * count / NUM_SAMPLES))"
      ],
      "execution_count": 18,
      "outputs": [
        {
          "output_type": "stream",
          "name": "stdout",
          "text": [
            "Pi is roughly 3.1418864\n"
          ]
        }
      ]
    },
    {
      "cell_type": "code",
      "metadata": {
        "id": "NwO4G7dJSYF3",
        "colab": {
          "base_uri": "https://localhost:8080/"
        },
        "outputId": "aecaddda-3c1b-4aaa-94e7-15dc0a3501f1"
      },
      "source": [
        "!wget https://jacobceles.github.io/knowledge_repo/colab_and_pyspark/cars.csv"
      ],
      "execution_count": 19,
      "outputs": [
        {
          "output_type": "stream",
          "name": "stdout",
          "text": [
            "--2024-03-13 17:07:55--  https://jacobceles.github.io/knowledge_repo/colab_and_pyspark/cars.csv\n",
            "Resolving jacobceles.github.io (jacobceles.github.io)... 185.199.108.153, 185.199.109.153, 185.199.110.153, ...\n",
            "Connecting to jacobceles.github.io (jacobceles.github.io)|185.199.108.153|:443... connected.\n",
            "HTTP request sent, awaiting response... 301 Moved Permanently\n",
            "Location: https://jacobcelestine.com/knowledge_repo/colab_and_pyspark/cars.csv [following]\n",
            "--2024-03-13 17:07:55--  https://jacobcelestine.com/knowledge_repo/colab_and_pyspark/cars.csv\n",
            "Resolving jacobcelestine.com (jacobcelestine.com)... 185.199.108.153, 185.199.109.153, 185.199.110.153, ...\n",
            "Connecting to jacobcelestine.com (jacobcelestine.com)|185.199.108.153|:443... connected.\n",
            "HTTP request sent, awaiting response... 200 OK\n",
            "Length: 22608 (22K) [text/csv]\n",
            "Saving to: ‘cars.csv’\n",
            "\n",
            "cars.csv            100%[===================>]  22.08K  --.-KB/s    in 0s      \n",
            "\n",
            "2024-03-13 17:07:55 (117 MB/s) - ‘cars.csv’ saved [22608/22608]\n",
            "\n"
          ]
        }
      ]
    },
    {
      "cell_type": "code",
      "source": [
        "cars = spark.read.csv('cars.csv', header=True, sep=\";\")\n",
        "cars.show(5)"
      ],
      "metadata": {
        "colab": {
          "base_uri": "https://localhost:8080/"
        },
        "id": "o3AB6IIyyMFe",
        "outputId": "cb6a5a7a-7598-4f2a-cbef-9fe016b70cb5"
      },
      "execution_count": 20,
      "outputs": [
        {
          "output_type": "stream",
          "name": "stdout",
          "text": [
            "+--------------------+----+---------+------------+----------+------+------------+-----+------+\n",
            "|                 Car| MPG|Cylinders|Displacement|Horsepower|Weight|Acceleration|Model|Origin|\n",
            "+--------------------+----+---------+------------+----------+------+------------+-----+------+\n",
            "|Chevrolet Chevell...|18.0|        8|       307.0|     130.0| 3504.|        12.0|   70|    US|\n",
            "|   Buick Skylark 320|15.0|        8|       350.0|     165.0| 3693.|        11.5|   70|    US|\n",
            "|  Plymouth Satellite|18.0|        8|       318.0|     150.0| 3436.|        11.0|   70|    US|\n",
            "|       AMC Rebel SST|16.0|        8|       304.0|     150.0| 3433.|        12.0|   70|    US|\n",
            "|         Ford Torino|17.0|        8|       302.0|     140.0| 3449.|        10.5|   70|    US|\n",
            "+--------------------+----+---------+------------+----------+------+------------+-----+------+\n",
            "only showing top 5 rows\n",
            "\n"
          ]
        }
      ]
    },
    {
      "cell_type": "code",
      "source": [
        "cars.select('Cylinders').rdd.map(lambda c: (c, 1)).reduceByKey(lambda a, b: a+b).collect()"
      ],
      "metadata": {
        "colab": {
          "base_uri": "https://localhost:8080/"
        },
        "id": "f_UQqnBwyOX3",
        "outputId": "3cb89ec4-cdb4-44b2-89a2-e13211bf0e77"
      },
      "execution_count": 21,
      "outputs": [
        {
          "output_type": "execute_result",
          "data": {
            "text/plain": [
              "[(Row(Cylinders='8'), 108),\n",
              " (Row(Cylinders='4'), 207),\n",
              " (Row(Cylinders='6'), 84),\n",
              " (Row(Cylinders='3'), 4),\n",
              " (Row(Cylinders='5'), 3)]"
            ]
          },
          "metadata": {},
          "execution_count": 21
        }
      ]
    },
    {
      "cell_type": "code",
      "source": [],
      "metadata": {
        "id": "IjOoU1UAyRu5"
      },
      "execution_count": null,
      "outputs": []
    }
  ]
}